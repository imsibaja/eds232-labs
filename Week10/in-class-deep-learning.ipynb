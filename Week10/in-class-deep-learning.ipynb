{
 "cells": [
  {
   "cell_type": "markdown",
   "id": "399e7327",
   "metadata": {},
   "source": [
    "## Deep Learning Example and Challenge"
   ]
  },
  {
   "cell_type": "code",
   "execution_count": null,
   "id": "f0ed9d5e",
   "metadata": {},
   "outputs": [],
   "source": [
    "import numpy as np\n",
    "import tensorflow as tf\n",
    "from tensorflow import keras\n",
    "import matplotlib.pyplot as plt\n",
    "import seaborn as sns\n",
    "import pandas as pd\n",
    "from sklearn.linear_model import LinearRegression\n",
    "from sklearn.metrics import mean_squared_error"
   ]
  },
  {
   "cell_type": "code",
   "execution_count": null,
   "id": "956ffdcc",
   "metadata": {},
   "outputs": [],
   "source": [
    "# Set random seed\n",
    "np.random.seed(808)\n",
    "\n",
    "# Generate simulated linear data\n",
    "n = 1000\n",
    "b = 30\n",
    "a = 5\n",
    "\n",
    "x = np.random.uniform(-1, 1, n).reshape(-1, 1)\n",
    "y = b + a * x + np.random.randn(n, 1)"
   ]
  },
  {
   "cell_type": "code",
   "execution_count": null,
   "id": "e9879420",
   "metadata": {},
   "outputs": [],
   "source": [
    "# Convert to DataFrame for visualization\n",
    "sim = pd.DataFrame({'x': x.flatten(), 'y': y.flatten()})\n",
    "\n",
    "#Plot the data\n",
    "sns.scatterplot(x=sim['x'], y=sim['y'])\n",
    "sns.regplot(x=sim['x'], y=sim['y'], scatter=False, color='red')"
   ]
  },
  {
   "cell_type": "code",
   "execution_count": null,
   "id": "5cd93684",
   "metadata": {},
   "outputs": [],
   "source": [
    "# Fit an OLS Regression Model\n",
    "ols_model = LinearRegression()\n",
    "ols_model.fit(x, y)\n",
    "\n",
    "# Print OLS coefficients\n",
    "print(f\"OLS Coefficients: Intercept = {ols_model.intercept_[0]}, Slope = {ols_model.coef_[0][0]}\")\n",
    "print(f\"OLS Standard Deviation (Residual Error): {np.sqrt(mean_squared_error(y, ols_model.predict(x)))}\")"
   ]
  },
  {
   "cell_type": "code",
   "execution_count": null,
   "id": "e242a715",
   "metadata": {},
   "outputs": [],
   "source": [
    "# Build a simple neural network\n",
    "model = keras.Sequential([\n",
    "    keras.layers.Dense(units=1, activation='linear',\n",
    "                       input_shape=(1,))])\n",
    "\n",
    "# Compile the model\n",
    "model.compile(optimizer='sgd', loss='mse')\n",
    "\n",
    "# Train the model\n",
    "history = model.fit(x, y, # data\n",
    "                    batch_size=16, # mini-batch size \n",
    "                    epochs=20, # n times through full training data\n",
    "                    validation_split=0.2, verbose=0\n",
    "                   )"
   ]
  },
  {
   "cell_type": "code",
   "execution_count": null,
   "id": "f02eb5ed",
   "metadata": {},
   "outputs": [],
   "source": [
    "# Plot training history\n",
    "plt.plot(history.history['loss'], label='Training Loss')\n",
    "plt.plot(history.history['val_loss'], label='Validation Loss')\n",
    "plt.xlabel('Epochs')\n",
    "plt.ylabel('Loss (MSE)')\n",
    "plt.legend()\n",
    "plt.title(\"Neural Network Training History\")\n",
    "plt.show()"
   ]
  },
  {
   "cell_type": "code",
   "execution_count": null,
   "id": "4ba59640",
   "metadata": {},
   "outputs": [],
   "source": [
    "# Compare weights from NN and OLS\n",
    "nn_weights = model.get_weights()\n",
    "print(f\"NN Weights: Intercept = {nn_weights[1][0]}, Slope = {nn_weights[0][0][0]}\")\n",
    "print(f\"OLS Coeffs: Intercept = {ols_model.intercept_[0]}, Slope = {ols_model.coef_[0][0]}\")"
   ]
  },
  {
   "cell_type": "code",
   "execution_count": null,
   "id": "c637d479",
   "metadata": {},
   "outputs": [],
   "source": [
    "# Generate Sine Wave Data\n",
    "np.random.seed(321)\n",
    "x_sine = np.linspace(-1, 2 * np.pi, n).reshape(-1, 1)\n",
    "e_sine = np.random.normal(0, 0.2, n).reshape(-1, 1)\n",
    "y_sine = np.sin(x_sine) + e_sine\n",
    "\n",
    "# Convert to DataFrame\n",
    "df_sine = pd.DataFrame({'x': x_sine.flatten(), 'y': y_sine.flatten()})\n",
    "\n",
    "# Plot Sine Data\n",
    "sns.scatterplot(x=df_sine['x'], y=df_sine['y'])\n",
    "plt.xlabel(\"x\")\n",
    "plt.ylabel(\"y\")\n",
    "plt.show()"
   ]
  },
  {
   "cell_type": "code",
   "execution_count": null,
   "id": "063e5ba9",
   "metadata": {},
   "outputs": [],
   "source": [
    "# Generate predictions\n",
    "df_sine['pred'] = model.predict(df_sine[['x']]).flatten()  # Convert predictions to a 1D array"
   ]
  }
 ],
 "metadata": {
  "kernelspec": {
   "display_name": "Anaconda 3 (EDS232)",
   "language": "python",
   "name": "ml-env"
  },
  "language_info": {
   "codemirror_mode": {
    "name": "ipython",
    "version": 3
   },
   "file_extension": ".py",
   "mimetype": "text/x-python",
   "name": "python",
   "nbconvert_exporter": "python",
   "pygments_lexer": "ipython3",
   "version": "3.10.16"
  }
 },
 "nbformat": 4,
 "nbformat_minor": 5
}
