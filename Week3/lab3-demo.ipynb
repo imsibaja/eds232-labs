{
 "cells": [
  {
   "cell_type": "code",
   "execution_count": 1,
   "id": "e21dae58-159f-4c4a-b8c4-4aff5afe42ab",
   "metadata": {},
   "outputs": [],
   "source": [
    "import numpy as np\n",
    "import pandas as pd\n",
    "import matplotlib.pyplot as plt\n",
    "from sklearn.datasets import make_classification\n",
    "from sklearn.model_selection import train_test_split\n",
    "from sklearn.linear_model import LogisticRegression\n",
    "from sklearn.metrics import roc_curve, confusion_matrix, ConfusionMatrixDisplay\n",
    "import ipywidgets as widgets\n",
    "from IPython.display import display"
   ]
  },
  {
   "cell_type": "code",
   "execution_count": 2,
   "id": "814d47d4-665e-4de5-b79a-9c67358fbe95",
   "metadata": {},
   "outputs": [],
   "source": [
    "# Generate synthetic data\n",
    "X, y = make_classification(n_samples=1000, n_features=10, n_classes=2, random_state=101)\n",
    "X_train, X_test, y_train, y_test = train_test_split(X, y, test_size=.3)\n",
    "\n",
    "# Train logistic regression\n",
    "model = LogisticRegression()\n",
    "model.fit(X_train, y_train)\n",
    "y_probs = model.predict_proba(X_test)[:,1]\n",
    "\n",
    "# Compute ROC curve\n",
    "fpr, tpr, thresholds = roc_curve(y_test, y_probs)"
   ]
  },
  {
   "cell_type": "code",
   "execution_count": 3,
   "id": "4fa3d4e1-c2cc-4b97-a468-7d7393b5065d",
   "metadata": {},
   "outputs": [
    {
     "name": "stdout",
     "output_type": "stream",
     "text": [
      "   True Label  Predicted Probability\n",
      "0           1               0.409892\n",
      "1           1               0.933720\n",
      "2           1               0.996137\n",
      "3           0               0.025364\n",
      "4           1               0.982909\n"
     ]
    }
   ],
   "source": [
    "# Create a DataFrame with the true labels and predicted probabilities\n",
    "probabilities_df = pd.DataFrame({\n",
    "    \"True Label\": y_test, \n",
    "    \"Predicted Probability\": y_probs,\n",
    "    \n",
    "})\n",
    "\n",
    "# Display the first few rows\n",
    "\n",
    "print(probabilities_df.head())"
   ]
  },
  {
   "cell_type": "code",
   "execution_count": 4,
   "id": "e82dd9be-6240-43f0-97ff-b08ba1bccb0d",
   "metadata": {
    "tags": []
   },
   "outputs": [
    {
     "data": {
      "image/png": "[encoded data removed]",
      "text/plain": [
       "<Figure size 800x600 with 1 Axes>"
      ]
     },
     "metadata": {},
     "output_type": "display_data"
    }
   ],
   "source": [
    "# Plot histograms for both classes\n",
    "plt.figure(figsize=(8, 6))\n",
    "plt.hist(probabilities_df[probabilities_df[\"True Label\"] == 0][\"Predicted Probability\"], \n",
    "         bins=20, alpha=0.7, label=\"Tree Alive\", color=\"blue\")\n",
    "plt.hist(probabilities_df[probabilities_df[\"True Label\"] == 1][\"Predicted Probability\"], \n",
    "         bins=20, alpha=0.7, label=\"Tree Dead\", color=\"orange\")\n",
    "\n",
    "# Add labels and title\n",
    "plt.xlabel(\"Predicted Probability\")\n",
    "plt.ylabel(\"Frequency\")\n",
    "plt.title(\"Distribution of Predicted Probabilities\")\n",
    "#plt.axvline(x=0.5, color=\"red\", linestyle=\"--\", label=\"Default Threshold = 0.5\")\n",
    "plt.legend()\n",
    "plt.show()"
   ]
  },
  {
   "cell_type": "code",
   "execution_count": null,
   "id": "838595fc-f571-44b2-afc4-04e7fc285295",
   "metadata": {},
   "outputs": [],
   "source": [
    "# Define the plotting function for threshold examination\n",
    "def plot_roc_confusion_and_probs(threshold=0.5):\n",
    "    plt.figure(figsize=(18, 6))\n",
    "    \n",
    "    # Subplot 1: ROC Curve\n",
    "    plt.subplot(1, 3, 1)\n",
    "    plt.plot(fpr, tpr, label=\"ROC Curve\", color=\"blue\", lw=2)\n",
    "    plt.plot([0, 1], [0, 1], color=\"gray\", linestyle=\"--\", label=\"Random Guess\")\n",
    "    plt.scatter(fpr[np.argmax(thresholds <= threshold)], \n",
    "                tpr[np.argmax(thresholds <= threshold)], \n",
    "                color=\"red\", label=f\"Threshold = {threshold:.2f}\")\n",
    "    plt.xlabel(\"False Positive Rate\")\n",
    "    plt.ylabel(\"True Positive Rate\")\n",
    "    plt.title(\"ROC Curve\")\n",
    "    plt.legend()\n",
    "    \n",
    "    # Subplot 2: Confusion Matrix\n",
    "    plt.subplot(1, 3, 2)\n",
    "    y_pred = (y_probs >= threshold).astype(int)\n",
    "    cm = confusion_matrix(y_test, y_pred)\n",
    "    ConfusionMatrixDisplay(confusion_matrix=cm, display_labels=[\"Class 0\", \"Class 1\"]).plot(cmap=\"Blues\", ax=plt.gca())\n",
    "    plt.title(\"Confusion Matrix\")\n",
    "    plt.grid(False)\n",
    "    \n",
    "    # Subplot 3: Histogram of Predicted Probabilities\n",
    "    plt.subplot(1, 3, 3)\n",
    "    plt.hist(y_probs[y_test == 0], bins=20, alpha=0.7, label=\"Class 0\", color=\"blue\")\n",
    "    plt.hist(y_probs[y_test == 1], bins=20, alpha=0.7, label=\"Class 1\", color=\"orange\")\n",
    "    plt.axvline(x=threshold, color=\"red\", linestyle=\"--\", label=f\"Threshold = {threshold:.2f}\")\n",
    "    plt.xlabel(\"Predicted Probability\")\n",
    "    plt.ylabel(\"Frequency\")\n",
    "    plt.title(\"Histogram of Predicted Probabilities\")\n",
    "    plt.legend()\n",
    "    \n",
    "    plt.tight_layout()\n",
    "    plt.show()\n",
    "\n",
    "# Create a slider widget\n",
    "threshold_slider = widgets.FloatSlider(\n",
    "    value=0.5,\n",
    "    min=0.0,\n",
    "    max=1.0,\n",
    "    step=0.01,\n",
    "    description=\"Threshold\",\n",
    "    continuous_update=False\n",
    ")\n",
    "\n",
    "# Link the slider to the plotting function\n",
    "output = widgets.interactive_output(plot_roc_confusion_and_probs, {\"threshold\": threshold_slider})\n",
    "\n",
    "# Display the slider and output together\n",
    "display(widgets.VBox([threshold_slider, output]))"
   ]
  },
  {
   "cell_type": "code",
   "execution_count": null,
   "id": "c25b8122-29c3-4bb6-b32f-60b117594287",
   "metadata": {},
   "outputs": [],
   "source": []
  }
 ],
 "metadata": {
  "kernelspec": {
   "display_name": "ml-env",
   "language": "python",
   "name": "python3"
  },
  "language_info": {
   "codemirror_mode": {
    "name": "ipython",
    "version": 3
   },
   "file_extension": ".py",
   "mimetype": "text/x-python",
   "name": "python",
   "nbconvert_exporter": "python",
   "pygments_lexer": "ipython3",
   "version": "3.10.16"
  }
 },
 "nbformat": 4,
 "nbformat_minor": 5
}
