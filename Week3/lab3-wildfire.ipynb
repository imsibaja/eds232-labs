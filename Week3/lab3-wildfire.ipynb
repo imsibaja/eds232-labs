{
 "cells": [
  {
   "cell_type": "code",
   "execution_count": 76,
   "id": "6d41e7de-5f0c-4baf-a37f-ec5dbe4f7428",
   "metadata": {
    "tags": []
   },
   "outputs": [],
   "source": [
    "# Imports\n",
    "import pandas as pd\n",
    "import numpy as np\n",
    "from sklearn.model_selection import train_test_split\n",
    "from sklearn.preprocessing import StandardScaler\n",
    "from sklearn.linear_model import LogisticRegression\n",
    "from sklearn.dummy import DummyClassifier\n",
    "from sklearn import metrics\n",
    "from sklearn.metrics import accuracy_score, confusion_matrix, classification_report, roc_curve, roc_auc_score, ConfusionMatrixDisplay\n",
    "import matplotlib.pyplot as plt\n",
    "import seaborn as sns\n"
   ]
  },
  {
   "cell_type": "markdown",
   "id": "e492775e-957c-40b4-b64f-5de93dbea5e1",
   "metadata": {},
   "source": [
    "# Lab 4: Fire and Tree Mortality\n",
    "\n",
    "# About the data\n",
    "Wildfires are increasingly frequent and severe due to climate change. Predicting tree mortality following a wildfire is critical for forest management, ecosystem recovery, and carbon sequestration planning. In this lab, we will build a logistic regression model to predict the probability of tree mortality one year after a wildfire\n",
    "\n",
    "The database we'll be working with today includes observations of individual trees involved in prescribed fires and wildfires occurring over 35 years, from 1981 to 2016. It is drawn from a fire and tree mortality database from the US Forest Service (see data description for the full database here: [link](https://www.nature.com/articles/s41597-020-0522-7#Sec10)).\n",
    "\n",
    "The target variable we'll use is `yr1status`, which is a binary variable (0=alive, 1=dead).  This tells us if a tree has died one year after a fire event.\n",
    "\n",
    "The features we'll use are `YrFireName`, `Times_burned`, `Species`, `Genus_species`,\n",
    "    `DBH_cm`, `HT_m`, `CR_pre`, and `CR_post`."
   ]
  },
  {
   "cell_type": "markdown",
   "id": "8f2c5ce6-eb43-4544-8b88-c306a7618c85",
   "metadata": {},
   "source": [
    "## Step 1: Check the metadata\n",
    "\n",
    "Look at the metadata and provide a description on what each variable represents in the Description column below.\n"
   ]
  },
  {
   "cell_type": "markdown",
   "id": "c7b239ac-123f-4458-bf2c-fc46dcf5cc0a",
   "metadata": {},
   "source": [
    "| Feature                     | Description                                                                                   |\n",
    "|-----------------------------|-----------------------------------------------------------------------------------------------| \n",
    "| yr1status                   | binary status if tree has died one year after fire event\n",
    "| YrFireName                  | fire names                             \n",
    "| Times_burned                | number of burns tree endured                                  \n",
    "| Species                     | species of collected sample                                                    \n",
    "| Genus_species               | genus and species of collected sample                                      \n",
    "| DBH_cm                      | diameter at breast height\n",
    "| HT_m                        | height of tree in meters\n",
    "| CR_pre                      | crown ratio pre-fire\n",
    "| CR_post                     | crown ratio post-fire"
   ]
  },
  {
   "cell_type": "markdown",
   "id": "55d355a0",
   "metadata": {},
   "source": [
    "## Step 2: Fetch  data\n",
    "Read in the data set and filter to retain only the variables of interest.  Then check for incomplete observations and remove any rows containing NaNs.  How many observations does that leave us with? **Print your answer.**"
   ]
  },
  {
   "cell_type": "code",
   "execution_count": 41,
   "id": "ac926dc2",
   "metadata": {
    "tags": []
   },
   "outputs": [
    {
     "name": "stderr",
     "output_type": "stream",
     "text": [
      "/var/folders/bb/wb3979614rq024pwwnbz2sc40000gn/T/ipykernel_57927/340983081.py:2: DtypeWarning: Columns (4,5,6,7,10,62,63) have mixed types. Specify dtype option on import or set low_memory=False.\n",
      "  trees_dat = pd.read_csv('FTM_trees.csv')\n"
     ]
    },
    {
     "data": {
      "text/html": [
       "<div>\n",
       "<style scoped>\n",
       "    .dataframe tbody tr th:only-of-type {\n",
       "        vertical-align: middle;\n",
       "    }\n",
       "\n",
       "    .dataframe tbody tr th {\n",
       "        vertical-align: top;\n",
       "    }\n",
       "\n",
       "    .dataframe thead th {\n",
       "        text-align: right;\n",
       "    }\n",
       "</style>\n",
       "<table border=\"1\" class=\"dataframe\">\n",
       "  <thead>\n",
       "    <tr style=\"text-align: right;\">\n",
       "      <th></th>\n",
       "      <th>YrFireName</th>\n",
       "      <th>Species</th>\n",
       "      <th>Dataset</th>\n",
       "      <th>Times_burned</th>\n",
       "      <th>ID</th>\n",
       "      <th>Plot</th>\n",
       "      <th>TreeNum</th>\n",
       "      <th>Unit</th>\n",
       "      <th>Genus</th>\n",
       "      <th>Species_name</th>\n",
       "      <th>...</th>\n",
       "      <th>IPS</th>\n",
       "      <th>MPB</th>\n",
       "      <th>RPB</th>\n",
       "      <th>RTB</th>\n",
       "      <th>SB</th>\n",
       "      <th>WPB</th>\n",
       "      <th>WB</th>\n",
       "      <th>SPB</th>\n",
       "      <th>CVS_percent_source</th>\n",
       "      <th>CVK_percent_source</th>\n",
       "    </tr>\n",
       "  </thead>\n",
       "  <tbody>\n",
       "    <tr>\n",
       "      <th>0</th>\n",
       "      <td>2006 - Tripod</td>\n",
       "      <td>2TREE</td>\n",
       "      <td>Prichard</td>\n",
       "      <td>1</td>\n",
       "      <td>NaN</td>\n",
       "      <td>188</td>\n",
       "      <td>15.0</td>\n",
       "      <td>NaN</td>\n",
       "      <td>NaN</td>\n",
       "      <td>NaN</td>\n",
       "      <td>...</td>\n",
       "      <td>NaN</td>\n",
       "      <td>NaN</td>\n",
       "      <td>NaN</td>\n",
       "      <td>NaN</td>\n",
       "      <td>NaN</td>\n",
       "      <td>NaN</td>\n",
       "      <td>NaN</td>\n",
       "      <td>NaN</td>\n",
       "      <td>F</td>\n",
       "      <td>NaN</td>\n",
       "    </tr>\n",
       "    <tr>\n",
       "      <th>1</th>\n",
       "      <td>2006 - Tripod</td>\n",
       "      <td>2TREE</td>\n",
       "      <td>Prichard</td>\n",
       "      <td>1</td>\n",
       "      <td>NaN</td>\n",
       "      <td>74</td>\n",
       "      <td>20.0</td>\n",
       "      <td>NaN</td>\n",
       "      <td>NaN</td>\n",
       "      <td>NaN</td>\n",
       "      <td>...</td>\n",
       "      <td>NaN</td>\n",
       "      <td>NaN</td>\n",
       "      <td>NaN</td>\n",
       "      <td>NaN</td>\n",
       "      <td>NaN</td>\n",
       "      <td>NaN</td>\n",
       "      <td>NaN</td>\n",
       "      <td>NaN</td>\n",
       "      <td>F</td>\n",
       "      <td>NaN</td>\n",
       "    </tr>\n",
       "    <tr>\n",
       "      <th>2</th>\n",
       "      <td>2006 - Tripod</td>\n",
       "      <td>2TREE</td>\n",
       "      <td>Prichard</td>\n",
       "      <td>1</td>\n",
       "      <td>NaN</td>\n",
       "      <td>193</td>\n",
       "      <td>22.0</td>\n",
       "      <td>NaN</td>\n",
       "      <td>NaN</td>\n",
       "      <td>NaN</td>\n",
       "      <td>...</td>\n",
       "      <td>NaN</td>\n",
       "      <td>NaN</td>\n",
       "      <td>NaN</td>\n",
       "      <td>NaN</td>\n",
       "      <td>NaN</td>\n",
       "      <td>NaN</td>\n",
       "      <td>NaN</td>\n",
       "      <td>NaN</td>\n",
       "      <td>F</td>\n",
       "      <td>NaN</td>\n",
       "    </tr>\n",
       "    <tr>\n",
       "      <th>3</th>\n",
       "      <td>2006 - Tripod</td>\n",
       "      <td>2TREE</td>\n",
       "      <td>Prichard</td>\n",
       "      <td>1</td>\n",
       "      <td>NaN</td>\n",
       "      <td>126</td>\n",
       "      <td>6.0</td>\n",
       "      <td>NaN</td>\n",
       "      <td>NaN</td>\n",
       "      <td>NaN</td>\n",
       "      <td>...</td>\n",
       "      <td>NaN</td>\n",
       "      <td>NaN</td>\n",
       "      <td>NaN</td>\n",
       "      <td>NaN</td>\n",
       "      <td>NaN</td>\n",
       "      <td>NaN</td>\n",
       "      <td>NaN</td>\n",
       "      <td>NaN</td>\n",
       "      <td>F</td>\n",
       "      <td>NaN</td>\n",
       "    </tr>\n",
       "    <tr>\n",
       "      <th>4</th>\n",
       "      <td>2006 - Tripod</td>\n",
       "      <td>2TREE</td>\n",
       "      <td>Prichard</td>\n",
       "      <td>1</td>\n",
       "      <td>NaN</td>\n",
       "      <td>113</td>\n",
       "      <td>11.0</td>\n",
       "      <td>NaN</td>\n",
       "      <td>NaN</td>\n",
       "      <td>NaN</td>\n",
       "      <td>...</td>\n",
       "      <td>NaN</td>\n",
       "      <td>NaN</td>\n",
       "      <td>NaN</td>\n",
       "      <td>NaN</td>\n",
       "      <td>NaN</td>\n",
       "      <td>NaN</td>\n",
       "      <td>NaN</td>\n",
       "      <td>NaN</td>\n",
       "      <td>F</td>\n",
       "      <td>NaN</td>\n",
       "    </tr>\n",
       "  </tbody>\n",
       "</table>\n",
       "<p>5 rows × 64 columns</p>\n",
       "</div>"
      ],
      "text/plain": [
       "      YrFireName Species   Dataset  Times_burned   ID Plot TreeNum Unit Genus  \\\n",
       "0  2006 - Tripod   2TREE  Prichard             1  NaN  188    15.0  NaN   NaN   \n",
       "1  2006 - Tripod   2TREE  Prichard             1  NaN   74    20.0  NaN   NaN   \n",
       "2  2006 - Tripod   2TREE  Prichard             1  NaN  193    22.0  NaN   NaN   \n",
       "3  2006 - Tripod   2TREE  Prichard             1  NaN  126     6.0  NaN   NaN   \n",
       "4  2006 - Tripod   2TREE  Prichard             1  NaN  113    11.0  NaN   NaN   \n",
       "\n",
       "  Species_name  ... IPS MPB  RPB  RTB  SB  WPB  WB  SPB  CVS_percent_source  \\\n",
       "0          NaN  ... NaN NaN  NaN  NaN NaN  NaN NaN  NaN                   F   \n",
       "1          NaN  ... NaN NaN  NaN  NaN NaN  NaN NaN  NaN                   F   \n",
       "2          NaN  ... NaN NaN  NaN  NaN NaN  NaN NaN  NaN                   F   \n",
       "3          NaN  ... NaN NaN  NaN  NaN NaN  NaN NaN  NaN                   F   \n",
       "4          NaN  ... NaN NaN  NaN  NaN NaN  NaN NaN  NaN                   F   \n",
       "\n",
       "   CVK_percent_source  \n",
       "0                 NaN  \n",
       "1                 NaN  \n",
       "2                 NaN  \n",
       "3                 NaN  \n",
       "4                 NaN  \n",
       "\n",
       "[5 rows x 64 columns]"
      ]
     },
     "execution_count": 41,
     "metadata": {},
     "output_type": "execute_result"
    }
   ],
   "source": [
    "# Load the dataset\n",
    "trees_dat = pd.read_csv('FTM_trees.csv')\n",
    "trees_dat.head()"
   ]
  },
  {
   "cell_type": "code",
   "execution_count": 42,
   "id": "7a1f827e",
   "metadata": {},
   "outputs": [
    {
     "data": {
      "text/html": [
       "<div>\n",
       "<style scoped>\n",
       "    .dataframe tbody tr th:only-of-type {\n",
       "        vertical-align: middle;\n",
       "    }\n",
       "\n",
       "    .dataframe tbody tr th {\n",
       "        vertical-align: top;\n",
       "    }\n",
       "\n",
       "    .dataframe thead th {\n",
       "        text-align: right;\n",
       "    }\n",
       "</style>\n",
       "<table border=\"1\" class=\"dataframe\">\n",
       "  <thead>\n",
       "    <tr style=\"text-align: right;\">\n",
       "      <th></th>\n",
       "      <th>YrFireName</th>\n",
       "      <th>Times_burned</th>\n",
       "      <th>Species</th>\n",
       "      <th>yr1status</th>\n",
       "      <th>Genus_species</th>\n",
       "      <th>DBH_cm</th>\n",
       "      <th>HT_m</th>\n",
       "      <th>CR_pre</th>\n",
       "      <th>CR_post</th>\n",
       "    </tr>\n",
       "  </thead>\n",
       "  <tbody>\n",
       "    <tr>\n",
       "      <th>0</th>\n",
       "      <td>2003 - Griff</td>\n",
       "      <td>1</td>\n",
       "      <td>ABAM</td>\n",
       "      <td>0.0</td>\n",
       "      <td>Abies_amabilis</td>\n",
       "      <td>71.374</td>\n",
       "      <td>41.76</td>\n",
       "      <td>0.84</td>\n",
       "      <td>0.74</td>\n",
       "    </tr>\n",
       "    <tr>\n",
       "      <th>1</th>\n",
       "      <td>2003 - Griff</td>\n",
       "      <td>1</td>\n",
       "      <td>ABAM</td>\n",
       "      <td>0.0</td>\n",
       "      <td>Abies_amabilis</td>\n",
       "      <td>23.622</td>\n",
       "      <td>12.80</td>\n",
       "      <td>0.60</td>\n",
       "      <td>0.57</td>\n",
       "    </tr>\n",
       "    <tr>\n",
       "      <th>2</th>\n",
       "      <td>2003 - Griff</td>\n",
       "      <td>1</td>\n",
       "      <td>ABAM</td>\n",
       "      <td>0.0</td>\n",
       "      <td>Abies_amabilis</td>\n",
       "      <td>46.228</td>\n",
       "      <td>34.75</td>\n",
       "      <td>0.75</td>\n",
       "      <td>0.59</td>\n",
       "    </tr>\n",
       "    <tr>\n",
       "      <th>3</th>\n",
       "      <td>2003 - Griff</td>\n",
       "      <td>1</td>\n",
       "      <td>ABAM</td>\n",
       "      <td>0.0</td>\n",
       "      <td>Abies_amabilis</td>\n",
       "      <td>21.082</td>\n",
       "      <td>23.16</td>\n",
       "      <td>0.38</td>\n",
       "      <td>0.38</td>\n",
       "    </tr>\n",
       "    <tr>\n",
       "      <th>4</th>\n",
       "      <td>2003 - Griff</td>\n",
       "      <td>1</td>\n",
       "      <td>ABAM</td>\n",
       "      <td>0.0</td>\n",
       "      <td>Abies_amabilis</td>\n",
       "      <td>24.384</td>\n",
       "      <td>26.21</td>\n",
       "      <td>0.42</td>\n",
       "      <td>0.42</td>\n",
       "    </tr>\n",
       "    <tr>\n",
       "      <th>...</th>\n",
       "      <td>...</td>\n",
       "      <td>...</td>\n",
       "      <td>...</td>\n",
       "      <td>...</td>\n",
       "      <td>...</td>\n",
       "      <td>...</td>\n",
       "      <td>...</td>\n",
       "      <td>...</td>\n",
       "      <td>...</td>\n",
       "    </tr>\n",
       "    <tr>\n",
       "      <th>36504</th>\n",
       "      <td>2003 - B and B</td>\n",
       "      <td>1</td>\n",
       "      <td>TSME</td>\n",
       "      <td>0.0</td>\n",
       "      <td>Tsuga_mertensiana</td>\n",
       "      <td>32.512</td>\n",
       "      <td>15.54</td>\n",
       "      <td>0.90</td>\n",
       "      <td>0.90</td>\n",
       "    </tr>\n",
       "    <tr>\n",
       "      <th>36505</th>\n",
       "      <td>2003 - B and B</td>\n",
       "      <td>1</td>\n",
       "      <td>TSME</td>\n",
       "      <td>0.0</td>\n",
       "      <td>Tsuga_mertensiana</td>\n",
       "      <td>24.892</td>\n",
       "      <td>14.63</td>\n",
       "      <td>0.81</td>\n",
       "      <td>0.81</td>\n",
       "    </tr>\n",
       "    <tr>\n",
       "      <th>36506</th>\n",
       "      <td>2003 - B and B</td>\n",
       "      <td>1</td>\n",
       "      <td>TSME</td>\n",
       "      <td>0.0</td>\n",
       "      <td>Tsuga_mertensiana</td>\n",
       "      <td>32.258</td>\n",
       "      <td>16.46</td>\n",
       "      <td>0.85</td>\n",
       "      <td>0.63</td>\n",
       "    </tr>\n",
       "    <tr>\n",
       "      <th>36507</th>\n",
       "      <td>2003 - B and B</td>\n",
       "      <td>1</td>\n",
       "      <td>TSME</td>\n",
       "      <td>0.0</td>\n",
       "      <td>Tsuga_mertensiana</td>\n",
       "      <td>31.750</td>\n",
       "      <td>18.59</td>\n",
       "      <td>0.87</td>\n",
       "      <td>0.80</td>\n",
       "    </tr>\n",
       "    <tr>\n",
       "      <th>36508</th>\n",
       "      <td>2003 - B and B</td>\n",
       "      <td>1</td>\n",
       "      <td>TSME</td>\n",
       "      <td>0.0</td>\n",
       "      <td>Tsuga_mertensiana</td>\n",
       "      <td>28.956</td>\n",
       "      <td>17.68</td>\n",
       "      <td>0.79</td>\n",
       "      <td>0.52</td>\n",
       "    </tr>\n",
       "  </tbody>\n",
       "</table>\n",
       "<p>36509 rows × 9 columns</p>\n",
       "</div>"
      ],
      "text/plain": [
       "           YrFireName  Times_burned Species  yr1status      Genus_species  \\\n",
       "0        2003 - Griff             1    ABAM        0.0     Abies_amabilis   \n",
       "1        2003 - Griff             1    ABAM        0.0     Abies_amabilis   \n",
       "2        2003 - Griff             1    ABAM        0.0     Abies_amabilis   \n",
       "3        2003 - Griff             1    ABAM        0.0     Abies_amabilis   \n",
       "4        2003 - Griff             1    ABAM        0.0     Abies_amabilis   \n",
       "...               ...           ...     ...        ...                ...   \n",
       "36504  2003 - B and B             1    TSME        0.0  Tsuga_mertensiana   \n",
       "36505  2003 - B and B             1    TSME        0.0  Tsuga_mertensiana   \n",
       "36506  2003 - B and B             1    TSME        0.0  Tsuga_mertensiana   \n",
       "36507  2003 - B and B             1    TSME        0.0  Tsuga_mertensiana   \n",
       "36508  2003 - B and B             1    TSME        0.0  Tsuga_mertensiana   \n",
       "\n",
       "       DBH_cm   HT_m  CR_pre  CR_post  \n",
       "0      71.374  41.76    0.84     0.74  \n",
       "1      23.622  12.80    0.60     0.57  \n",
       "2      46.228  34.75    0.75     0.59  \n",
       "3      21.082  23.16    0.38     0.38  \n",
       "4      24.384  26.21    0.42     0.42  \n",
       "...       ...    ...     ...      ...  \n",
       "36504  32.512  15.54    0.90     0.90  \n",
       "36505  24.892  14.63    0.81     0.81  \n",
       "36506  32.258  16.46    0.85     0.63  \n",
       "36507  31.750  18.59    0.87     0.80  \n",
       "36508  28.956  17.68    0.79     0.52  \n",
       "\n",
       "[36509 rows x 9 columns]"
      ]
     },
     "execution_count": 42,
     "metadata": {},
     "output_type": "execute_result"
    }
   ],
   "source": [
    "# Select columns\n",
    "trees_dat = trees_dat[[\"YrFireName\", \"Times_burned\", \"Species\", \"yr1status\",\n",
    "                       \"Genus_species\", \"DBH_cm\", \"HT_m\", \"CR_pre\", \"CR_post\"]]\n",
    "# Drop rows with missing values\n",
    "trees_dat = trees_dat.dropna().reset_index(drop=True)\n",
    "\n",
    "trees_dat"
   ]
  },
  {
   "cell_type": "code",
   "execution_count": 43,
   "id": "4ca6b749",
   "metadata": {},
   "outputs": [
    {
     "name": "stdout",
     "output_type": "stream",
     "text": [
      "There are 36509 rows.\n"
     ]
    }
   ],
   "source": [
    "print(f\"There are {trees_dat.shape[0]} rows.\")"
   ]
  },
  {
   "cell_type": "markdown",
   "id": "aaf806bf",
   "metadata": {},
   "source": [
    "## Step 3: Data Preprocessing\n",
    "1. We recode categorical predictors to zero-based integer form because most machine learning models, including logistic regression, cannot work directly with categorical data represented as strings or labels. Instead, models require numerical input. Let's do that here. \n"
   ]
  },
  {
   "cell_type": "code",
   "execution_count": 44,
   "id": "1e41fb79-ad31-4162-ac76-887461bb4160",
   "metadata": {
    "tags": []
   },
   "outputs": [
    {
     "data": {
      "text/plain": [
       "YrFireName        object\n",
       "Times_burned       int64\n",
       "Species           object\n",
       "yr1status        float64\n",
       "Genus_species     object\n",
       "DBH_cm           float64\n",
       "HT_m             float64\n",
       "CR_pre           float64\n",
       "CR_post          float64\n",
       "dtype: object"
      ]
     },
     "execution_count": 44,
     "metadata": {},
     "output_type": "execute_result"
    }
   ],
   "source": [
    "# Check the data types\n",
    "trees_dat.dtypes"
   ]
  },
  {
   "cell_type": "code",
   "execution_count": 45,
   "id": "9051bab2",
   "metadata": {},
   "outputs": [],
   "source": [
    "# Convert the categorical variables to integers\n",
    "trees_dat[\"YrFireName\"] = trees_dat[\"YrFireName\"].astype(\"category\").cat.codes\n",
    "trees_dat[\"Species\"]= trees_dat[\"Species\"].astype(\"category\").cat.codes\n",
    "trees_dat[\"Genus_species\"] = trees_dat[\"Genus_species\"].astype(\"category\").cat.codes"
   ]
  },
  {
   "cell_type": "markdown",
   "id": "fdcc4673-26dc-4c09-8c9a-0f2f97abe16f",
   "metadata": {},
   "source": [
    "2. Then we'll split into training and test data and scale for coefficient interpretability.  Recall that we use the training features to calculate our scaling parameters (mean and standard deviation) and apply the scaling to those training features (`scaler.fit_transform`) and then apply the scaling to the features in the test data as well (`scaler.transform`).\n"
   ]
  },
  {
   "cell_type": "code",
   "execution_count": 46,
   "id": "93a0e24e",
   "metadata": {},
   "outputs": [],
   "source": [
    "#Specify feature names \n",
    "feature_names = [\"YrFireName\",\n",
    "    \"Times_burned\",\n",
    "    \"Species\",\n",
    "    \"Genus_species\",\n",
    "    \"DBH_cm\",\n",
    "    \"HT_m\",\n",
    "    \"CR_pre\",\n",
    "    \"CR_post\"]\n"
   ]
  },
  {
   "cell_type": "code",
   "execution_count": 47,
   "id": "394d3cf0",
   "metadata": {},
   "outputs": [],
   "source": [
    "# Select features and target\n",
    "X = trees_dat[feature_names]\n",
    "y = trees_dat[\"yr1status\"]\n",
    "\n",
    "# Split the data into training and test sets\n",
    "X_train, X_test, y_train, y_test = train_test_split(X, y, test_size=0.3, random_state=42)"
   ]
  },
  {
   "cell_type": "code",
   "execution_count": 48,
   "id": "54b2f9d2-f414-4bf2-b0a3-51d55f3d997a",
   "metadata": {
    "tags": []
   },
   "outputs": [],
   "source": [
    "# Standardize the data\n",
    "scaler = StandardScaler()\n",
    "X_train_scaled = scaler.fit_transform(X_train)\n",
    "X_test_scaled = scaler.transform(X_test)"
   ]
  },
  {
   "cell_type": "markdown",
   "id": "3055eca1-9c22-4266-95a0-710b43be5a8e",
   "metadata": {},
   "source": [
    "3. How many training/test observations do we have? Print your answer in the cell below. "
   ]
  },
  {
   "cell_type": "code",
   "execution_count": 49,
   "id": "fdb4803d-8680-4ede-b790-3579f4a485e7",
   "metadata": {
    "tags": []
   },
   "outputs": [
    {
     "name": "stdout",
     "output_type": "stream",
     "text": [
      "Training set observations: 25556\n",
      "Testing set observations: 10953\n"
     ]
    }
   ],
   "source": [
    "# Verify the training and testing set size\n",
    "print(f\"Training set observations: {len(X_train)}\", )\n",
    "print(f\"Testing set observations: {len(X_test)}\",)"
   ]
  },
  {
   "cell_type": "markdown",
   "id": "4ca8857c",
   "metadata": {},
   "source": [
    "## Step 4: Train a Logistical Model\n",
    "Create a classifier using `LogisticRegression()` and fit it on the training data.  Then assess the model's accuracy on the training set by making predictions on the training data.  Calculate and **print** the accuracy of your model on the training set. "
   ]
  },
  {
   "cell_type": "code",
   "execution_count": 50,
   "id": "578b2ca5",
   "metadata": {
    "tags": []
   },
   "outputs": [
    {
     "name": "stdout",
     "output_type": "stream",
     "text": [
      "Training Accuracy:  0.945061825011739\n"
     ]
    }
   ],
   "source": [
    "# Train logistic regression\n",
    "log_model = LogisticRegression()\n",
    "log_model.fit(X_train_scaled, y_train)\n",
    "\n",
    "print(f\"Training Accuracy: \", accuracy_score(y_train, log_model.predict(X_train_scaled)))"
   ]
  },
  {
   "cell_type": "markdown",
   "id": "34d86616",
   "metadata": {},
   "source": [
    "## Step 5: Test Set Predictions and Model Evaluation\n",
    "Now let's take our trained logistic classifier and make predictions on the test set. Calculate the accuracy and confusion matrix. Then use `sns.heatmap` for improved confusion matrix visualization."
   ]
  },
  {
   "cell_type": "code",
   "execution_count": 66,
   "id": "be4e4d6c",
   "metadata": {
    "tags": []
   },
   "outputs": [
    {
     "name": "stdout",
     "output_type": "stream",
     "text": [
      "Accuracy: 0.9401990322286131\n",
      "              precision    recall  f1-score   support\n",
      "\n",
      "        Dead       0.96      0.98      0.97     10033\n",
      "       Alive       0.70      0.50      0.58       920\n",
      "\n",
      "    accuracy                           0.94     10953\n",
      "   macro avg       0.83      0.74      0.78     10953\n",
      "weighted avg       0.93      0.94      0.94     10953\n",
      "\n",
      "Sensitivity: 0.955331132258691\n",
      "Specificity: 0.7022900763358778\n",
      "True Positives (True Alive): 9838\n",
      "False Positives (False Alive): 195\n",
      "True Negatives (True Deaths): 460\n",
      "False Negatives (False Deaths): 460\n"
     ]
    }
   ],
   "source": [
    "# Print evaluation metrics\n",
    "y_test_pred_log = log_model.predict(X_test_scaled)\n",
    "\n",
    "# Print evaluation metrics\n",
    "print(f\"Accuracy: {accuracy_score(y_test, y_test_pred_log)}\")\n",
    "\n",
    "\n",
    "print(classification_report(y_test, y_test_pred_log, target_names=[\"Dead\", \"Alive\"]))\n",
    "\n",
    "# Print classification report\n",
    "confusion_matrix_log = confusion_matrix(y_test, y_test_pred_log)\n",
    "TN = confusion_matrix_log[1,1]\n",
    "TP = confusion_matrix_log[0,0]\n",
    "FP = confusion_matrix_log[0,1]\n",
    "FN = confusion_matrix_log[1,0]\n",
    "\n",
    "sensitivity = TP / (TP + FN) \n",
    "specificity = TN / (TN + FP)\n",
    "\n",
    "print(f\"Sensitivity: {sensitivity}\")\n",
    "print(f\"Specificity: {specificity}\")\n",
    "print(f\"True Positives (True Alive): {TP}\")\n",
    "print(f\"False Positives (False Alive): {FP}\")\n",
    "print(f\"True Negatives (True Deaths): {TN}\")\n",
    "print(f\"False Negatives (False Deaths): {FN}\")\n"
   ]
  },
  {
   "cell_type": "code",
   "execution_count": 71,
   "id": "1c8a7583",
   "metadata": {},
   "outputs": [
    {
     "data": {
      "image/png": "[encoded data removed]",
      "text/plain": [
       "<Figure size 800x600 with 2 Axes>"
      ]
     },
     "metadata": {},
     "output_type": "display_data"
    }
   ],
   "source": [
    "#Plot confusion matrix\n",
    "plt.figure(figsize=(8, 6))\n",
    "sns.heatmap(confusion_matrix_log, annot=True, fmt=\"d\", cmap='mako',\n",
    "            xticklabels=['Alive', 'Dead'], yticklabels=['Alive', 'Dead'])\n",
    "plt.title(\"Confusion Matrix\")\n",
    "plt.grid(False)\n",
    "plt.show()"
   ]
  },
  {
   "cell_type": "markdown",
   "id": "9b5cdbbb",
   "metadata": {},
   "source": [
    "## Step 6: Logistic Classifier Evaluation\n",
    "How did your model perform on the unseen data? \n",
    "Does your model perform differently on observations of trees that survived vs trees that died?\n",
    "Is there a class imbalance in this data set?"
   ]
  },
  {
   "cell_type": "markdown",
   "id": "7c651ef7",
   "metadata": {},
   "source": [
    "It seemingly performs well with an accuracy of 94%. But, he model performs much better on trees that survived. Its sensitivity (True Positive = 95%) yield much better results than its specificity (True Negative = 70%). Yes there is class imbalance, which often leads to a bias in the minority class, which is evident in our specificity. "
   ]
  },
  {
   "cell_type": "markdown",
   "id": "c60c7e36",
   "metadata": {},
   "source": [
    "## Step 7: What about a Dummy?\n",
    "What do you think would happen if we built a model that always predicts the majority class (alive trees)? How would its accuracy compare to your logistic regression model?"
   ]
  },
  {
   "cell_type": "markdown",
   "id": "e66ba576",
   "metadata": {},
   "source": [
    "If the model were to always predict the majority class, I belive the overall model would not change much. Since there is bias in our minority class, it is not properly classifying dead trees, but alive trees are classified accurately, so our alive trees will likely be modeled well regardless. "
   ]
  },
  {
   "cell_type": "markdown",
   "id": "6854360d",
   "metadata": {},
   "source": [
    "Let's go ahead and do it: use `DummyClassifier()` with the appropriate value for the 'strategy' parameter to train a majority classifier.  Then calculate this model's accuracy on the training data."
   ]
  },
  {
   "cell_type": "code",
   "execution_count": 53,
   "id": "4e76ea3d",
   "metadata": {},
   "outputs": [
    {
     "name": "stdout",
     "output_type": "stream",
     "text": [
      "Sensitivity: 0.9160047475577467\n",
      "Specificity: nan\n",
      "True Positives (True Alive): 10033\n",
      "False Positives (False Alive): 0\n",
      "True Negatives (True Deaths): 0\n",
      "False Negatives (False Deaths): 920\n"
     ]
    },
    {
     "name": "stderr",
     "output_type": "stream",
     "text": [
      "/var/folders/bb/wb3979614rq024pwwnbz2sc40000gn/T/ipykernel_57927/1024325239.py:17: RuntimeWarning: invalid value encountered in scalar divide\n",
      "  specificity = TN / (TN + FP)\n"
     ]
    }
   ],
   "source": [
    "# Dummy Classifier model\n",
    "dummy_classifier = DummyClassifier(strategy=\"most_frequent\")\n",
    "dummy_classifier.fit(X_train_scaled, y_train)\n",
    "\n",
    "# Predict dummy classifier model on training and testing set\n",
    "X_train_pred_dummy = dummy_classifier.predict(X_train_scaled)\n",
    "y_test_pred_dummy = dummy_classifier.predict(X_test_scaled)\n",
    "\n",
    "# Confusion matrix for dummy classifier\n",
    "confusion_matrix_dummy = confusion_matrix(y_test, y_test_pred_dummy)\n",
    "TN = confusion_matrix_dummy[1,1]\n",
    "TP = confusion_matrix_dummy[0,0]\n",
    "FP = confusion_matrix_dummy[0,1]\n",
    "FN = confusion_matrix_dummy[1,0]\n",
    "\n",
    "sensitivity = TP / (TP + FN) \n",
    "specificity = TN / (TN + FP)\n",
    "\n",
    "print(f\"Sensitivity: {sensitivity}\")\n",
    "print(f\"Specificity: {specificity}\")\n",
    "print(f\"True Positives (True Alive): {TP}\")\n",
    "print(f\"False Positives (False Alive): {FP}\")\n",
    "print(f\"True Negatives (True Deaths): {TN}\")\n",
    "print(f\"False Negatives (False Deaths): {FN}\")\n"
   ]
  },
  {
   "cell_type": "code",
   "execution_count": 67,
   "id": "104a2de5",
   "metadata": {},
   "outputs": [
    {
     "name": "stdout",
     "output_type": "stream",
     "text": [
      "Dummy Accuracy: 0.9160047475577467\n",
      "              precision    recall  f1-score   support\n",
      "\n",
      "        Dead       0.92      1.00      0.96     10033\n",
      "       Alive       0.00      0.00      0.00       920\n",
      "\n",
      "    accuracy                           0.92     10953\n",
      "   macro avg       0.46      0.50      0.48     10953\n",
      "weighted avg       0.84      0.92      0.88     10953\n",
      "\n"
     ]
    },
    {
     "name": "stderr",
     "output_type": "stream",
     "text": [
      "/Users/ianmorris/anaconda3/envs/ml-env/lib/python3.10/site-packages/sklearn/metrics/_classification.py:1471: UndefinedMetricWarning: Precision and F-score are ill-defined and being set to 0.0 in labels with no predicted samples. Use `zero_division` parameter to control this behavior.\n",
      "  _warn_prf(average, modifier, msg_start, len(result))\n",
      "/Users/ianmorris/anaconda3/envs/ml-env/lib/python3.10/site-packages/sklearn/metrics/_classification.py:1471: UndefinedMetricWarning: Precision and F-score are ill-defined and being set to 0.0 in labels with no predicted samples. Use `zero_division` parameter to control this behavior.\n",
      "  _warn_prf(average, modifier, msg_start, len(result))\n",
      "/Users/ianmorris/anaconda3/envs/ml-env/lib/python3.10/site-packages/sklearn/metrics/_classification.py:1471: UndefinedMetricWarning: Precision and F-score are ill-defined and being set to 0.0 in labels with no predicted samples. Use `zero_division` parameter to control this behavior.\n",
      "  _warn_prf(average, modifier, msg_start, len(result))\n"
     ]
    }
   ],
   "source": [
    "...\n",
    "\n",
    "# Print accuracy and confusion matrix results\n",
    "print(f\"Dummy Accuracy: {accuracy_score(y_test, y_test_pred_dummy)}\")\n",
    "print(classification_report(y_test, y_test_pred_dummy, target_names=[\"Dead\", \"Alive\"]))"
   ]
  },
  {
   "cell_type": "code",
   "execution_count": 72,
   "id": "2d7bd102",
   "metadata": {},
   "outputs": [
    {
     "name": "stdout",
     "output_type": "stream",
     "text": [
      "\n",
      "Dummy Confusion Matrix:\n"
     ]
    },
    {
     "data": {
      "image/png": "[encoded data removed]",
      "text/plain": [
       "<Figure size 800x600 with 2 Axes>"
      ]
     },
     "metadata": {},
     "output_type": "display_data"
    }
   ],
   "source": [
    "print(\"\\nDummy Confusion Matrix:\")\n",
    "\n",
    "#Plot confusion matrix\n",
    "plt.figure(figsize=(8, 6))\n",
    "sns.heatmap(confusion_matrix_dummy, annot=True, fmt=\"d\", cmap='mako',\n",
    "            xticklabels=['Alive', 'Dead'], yticklabels=['Alive', 'Dead'])\n",
    "plt.title(\"Confusion Matrix\")\n",
    "plt.grid(False)\n",
    "plt.show()"
   ]
  },
  {
   "cell_type": "markdown",
   "id": "e3445d23",
   "metadata": {},
   "source": [
    "# Step 8: ROCs and AUCs\n",
    "Our two models have similar accuracy, but is that all there is to this story?  Let's dig a little deeper on the comparison of our logistic and dummy classifiers by examining the associated receiver-operator characteristic (ROC) curves. Calculate the area under the curve (AUC) for both models."
   ]
  },
  {
   "cell_type": "code",
   "execution_count": 83,
   "id": "cef8515b",
   "metadata": {
    "tags": []
   },
   "outputs": [
    {
     "name": "stdout",
     "output_type": "stream",
     "text": [
      "Logistic AUC: 0.9180671176422154\n"
     ]
    }
   ],
   "source": [
    "# Logistic classifier AUC\n",
    "print(f\"Logistic AUC: {roc_auc_score(y_test, log_model.predict_proba(X_test_scaled)[:, 1])}\")"
   ]
  },
  {
   "cell_type": "code",
   "execution_count": 85,
   "id": "5180e8b8",
   "metadata": {
    "tags": []
   },
   "outputs": [
    {
     "name": "stdout",
     "output_type": "stream",
     "text": [
      "Logistic AUC: 0.5\n"
     ]
    }
   ],
   "source": [
    "# Dummy classifier AUC\n",
    "print(f\"Logistic AUC: {roc_auc_score(y_test, dummy_classifier.predict_proba(X_test_scaled)[:, 1])}\")"
   ]
  },
  {
   "cell_type": "markdown",
   "id": "4acd252f",
   "metadata": {},
   "source": [
    "# Step 9: Plot dummy and logistic model ROC curves\n",
    "Now using the outputs from `roc_curve()`, plot the ROC curves for both models on the same plot.  Make sure to use appropriate labels in the legend."
   ]
  },
  {
   "cell_type": "code",
   "execution_count": 86,
   "id": "03a7fe29",
   "metadata": {
    "tags": []
   },
   "outputs": [
    {
     "data": {
      "image/png": "[encoded data removed]",
      "text/plain": [
       "<Figure size 1000x800 with 1 Axes>"
      ]
     },
     "metadata": {},
     "output_type": "display_data"
    }
   ],
   "source": [
    "# Plot ROC curve\n",
    "fpr_log, tpr_log, _ = roc_curve(y_test, log_model.predict_proba(X_test_scaled)[:, 1])\n",
    "fpr_dummy, tpr_dummy, _ = roc_curve(y_test, dummy_classifier.predict_proba(X_test_scaled)[:, 1])\n",
    "\n",
    "plt.figure(figsize=(10, 8))\n",
    "plt.plot(fpr_log, tpr_log, label=\"Logistic Regression\")\n",
    "plt.plot(fpr_dummy, tpr_dummy, label=\"Dummy Classifier\")\n",
    "plt.plot([0, 1], [0, 1], color='black', linestyle='--')\n",
    "plt.xlabel('False Positive Rate')\n",
    "plt.ylabel('True Positive Rate')\n",
    "plt.title('ROC Curve')\n",
    "plt.legend()\n",
    "plt.show()"
   ]
  },
  {
   "cell_type": "markdown",
   "id": "ec104e80",
   "metadata": {},
   "source": [
    "How do the two models compare on AUC?  What are the implications for evaluating classifiers based on accuracy of their predictions?"
   ]
  },
  {
   "cell_type": "markdown",
   "id": "a4ab1a30",
   "metadata": {},
   "source": [
    "The two models are drastically different in AUC. This shows that though the accracy of their predictions are quite similar, the AUC are not. This shows that we cannot evaluate classifiers based on their accuracy, rather we should look at the model wholistically, including ROC and AUC in addition to accuracy."
   ]
  },
  {
   "cell_type": "markdown",
   "id": "d1767d77",
   "metadata": {},
   "source": [
    "# Step 10: Final interpretation\n",
    "\n",
    "Identifying the most important features in a model can guide decision-making. For instance, in our dataset, highly important features might indicate key factors affecting tree survival after a fire. We will calculate the feature importance by examining the coefficients of our logistic regression model."
   ]
  },
  {
   "cell_type": "code",
   "execution_count": 90,
   "id": "e0a97e03",
   "metadata": {
    "tags": []
   },
   "outputs": [
    {
     "name": "stdout",
     "output_type": "stream",
     "text": [
      "         Feature  Importance\n",
      "2        Species    0.541509\n",
      "4         DBH_cm    0.421324\n",
      "6         CR_pre    0.123414\n",
      "1   Times_burned    0.000000\n",
      "3  Genus_species   -0.067867\n",
      "0     YrFireName   -0.660497\n",
      "5           HT_m   -1.165414\n",
      "7        CR_post   -2.494974\n"
     ]
    }
   ],
   "source": [
    "coefficients = log_model.coef_[0]\n",
    "importance_df = pd.DataFrame({\"Feature\": feature_names, \"Importance\": coefficients}).sort_values(\"Importance\", ascending=False)\n",
    "\n",
    "# Print the sorted feature importance\n",
    "print(importance_df)"
   ]
  },
  {
   "cell_type": "markdown",
   "id": "55d9db5d",
   "metadata": {},
   "source": [
    "Which are the most important features in our model (reference the metadata to help answer this)? Can you think of any implications for forest management or conservation strategy?"
   ]
  },
  {
   "cell_type": "markdown",
   "id": "bd42e56c",
   "metadata": {},
   "source": [
    "The most important features are CR_post and HT_m, or crown ratio post fire and height (m), respectivly. Forest managers may see this and prioritize taller, more developed trees species. By ensuring these species are nutured to full growth, we will likely see "
   ]
  }
 ],
 "metadata": {
  "kernelspec": {
   "display_name": "ml-env",
   "language": "python",
   "name": "python3"
  },
  "language_info": {
   "codemirror_mode": {
    "name": "ipython",
    "version": 3
   },
   "file_extension": ".py",
   "mimetype": "text/x-python",
   "name": "python",
   "nbconvert_exporter": "python",
   "pygments_lexer": "ipython3",
   "version": "3.10.16"
  }
 },
 "nbformat": 4,
 "nbformat_minor": 5
}
